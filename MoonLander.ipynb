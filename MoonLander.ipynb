{
  "cells": [
    {
      "cell_type": "markdown",
      "metadata": {
        "id": "view-in-github",
        "colab_type": "text"
      },
      "source": [
        "<a href=\"https://colab.research.google.com/github/chandlerbing65nm/Moon-Lander-with-Expected-Sarsa/blob/main/MoonLander.ipynb\" target=\"_parent\"><img src=\"https://colab.research.google.com/assets/colab-badge.svg\" alt=\"Open In Colab\"/></a>"
      ]
    },
    {
      "cell_type": "markdown",
      "metadata": {
        "id": "h4qP3T3Hs37P"
      },
      "source": [
        "## Import and Install Libraries"
      ]
    },
    {
      "cell_type": "code",
      "execution_count": 32,
      "metadata": {
        "id": "TZwtupJLs37S"
      },
      "outputs": [],
      "source": [
        "import numpy as np\n",
        "import matplotlib.pyplot as plt\n",
        "%matplotlib inline\n",
        "\n",
        "from rl_glue import RLGlue\n",
        "from environment import BaseEnvironment\n",
        "from lander_env import MoonLanderEnvironment\n",
        "from agent import BaseAgent\n",
        "from collections import deque\n",
        "from copy import deepcopy\n",
        "from tqdm import tqdm\n",
        "import os \n",
        "import shutil\n",
        "from plot_script import plot_result\n",
        "from dummy_environment import DummyEnvironment\n",
        "from dummy_agent import DummyAgent"
      ]
    },
    {
      "cell_type": "code",
      "source": [
        "!pip install gym[box2d]"
      ],
      "metadata": {
        "id": "Hpuiy6iwuqaV"
      },
      "execution_count": null,
      "outputs": []
    },
    {
      "cell_type": "markdown",
      "metadata": {
        "id": "_XAmWc-9s37U"
      },
      "source": [
        "## Action-Values Neural Network\n",
        "\n",
        "We used a neural network for approximating the action-value function in a control problem. The main difference between approximating a state-value function and an action-value function using a neural network is that in the former the output layer only includes one unit whereas in the latter the output layer includes as many units as the number of actions. "
      ]
    },
    {
      "cell_type": "code",
      "execution_count": 5,
      "metadata": {
        "id": "6OdX93SSs37V"
      },
      "outputs": [],
      "source": [
        "class ActionValueNetwork:\n",
        " \n",
        "    def __init__(self, network_config):\n",
        "        self.state_dim = network_config.get(\"state_dim\")\n",
        "        self.num_hidden_units = network_config.get(\"num_hidden_units\")\n",
        "        self.num_actions = network_config.get(\"num_actions\")\n",
        "        \n",
        "        self.rand_generator = np.random.RandomState(network_config.get(\"seed\"))\n",
        "        \n",
        "        # Specifies self.layer_sizes which shows the number of nodes in each layer\n",
        "        self.layer_sizes = np.array([self.state_dim, self.num_hidden_units, self.num_actions]) \n",
        "        \n",
        "        # Initializes the weights of the neural network\n",
        "        # self.weights is an array of dictionaries with each dictionary corresponding to \n",
        "        # the weights from one layer to the next. Each dictionary includes W and b\n",
        "        self.weights = [dict() for i in range(0, len(self.layer_sizes) - 1)]\n",
        "        for i in range(0, len(self.layer_sizes) - 1):\n",
        "            self.weights[i]['W'] = self.init_saxe(self.layer_sizes[i], self.layer_sizes[i + 1])\n",
        "            self.weights[i]['b'] = np.zeros((1, self.layer_sizes[i + 1]))\n",
        "    \n",
        "    def get_action_values(self, s):\n",
        "        \"\"\"\n",
        "        Args:\n",
        "            s (Numpy array): The state.\n",
        "        Returns:\n",
        "            The action-values (Numpy array) calculated using the network's weights.\n",
        "        \"\"\"\n",
        "        \n",
        "        W0, b0 = self.weights[0]['W'], self.weights[0]['b']\n",
        "        psi = np.dot(s, W0) + b0\n",
        "        x = np.maximum(psi, 0)\n",
        "        \n",
        "        W1, b1 = self.weights[1]['W'], self.weights[1]['b']\n",
        "        q_vals = np.dot(x, W1) + b1\n",
        "\n",
        "        return q_vals\n",
        "    \n",
        "    def get_TD_update(self, s, delta_mat):\n",
        "        \"\"\"\n",
        "        Args:\n",
        "            s (Numpy array): The state.\n",
        "            delta_mat (Numpy array): A 2D array of shape (batch_size, num_actions). Each row of delta_mat  \n",
        "            correspond to one state in the batch. Each row has only one non-zero element \n",
        "            which is the TD-error corresponding to the action taken.\n",
        "        Returns:\n",
        "            The TD update (Array of dictionaries with gradient times TD errors) for the network's weights\n",
        "        \"\"\"\n",
        "\n",
        "        W0, b0 = self.weights[0]['W'], self.weights[0]['b']\n",
        "        W1, b1 = self.weights[1]['W'], self.weights[1]['b']\n",
        "        \n",
        "        psi = np.dot(s, W0) + b0\n",
        "        x = np.maximum(psi, 0)\n",
        "        dx = (psi > 0).astype(float)\n",
        "\n",
        "        # td_update has the same structure as self.weights, that is an array of dictionaries.\n",
        "        # td_update[0][\"W\"], td_update[0][\"b\"], td_update[1][\"W\"], and td_update[1][\"b\"] have the same shape as \n",
        "        # self.weights[0][\"W\"], self.weights[0][\"b\"], self.weights[1][\"W\"], and self.weights[1][\"b\"] respectively\n",
        "        td_update = [dict() for i in range(len(self.weights))]\n",
        "         \n",
        "        v = delta_mat\n",
        "        td_update[1]['W'] = np.dot(x.T, v) * 1. / s.shape[0]\n",
        "        td_update[1]['b'] = np.sum(v, axis=0, keepdims=True) * 1. / s.shape[0]\n",
        "        \n",
        "        v = np.dot(v, W1.T) * dx\n",
        "        td_update[0]['W'] = np.dot(s.T, v) * 1. / s.shape[0]\n",
        "        td_update[0]['b'] = np.sum(v, axis=0, keepdims=True) * 1. / s.shape[0]\n",
        "                \n",
        "        return td_update\n",
        "    \n",
        "    # Weight initialization\n",
        "    # (Derivations to the nonlinear dynamics of learning in deep linear neural networks by Saxe, A et al., 2013)\n",
        "    def init_saxe(self, rows, cols):\n",
        "        \"\"\"\n",
        "        Args:\n",
        "            rows (int): number of input units for layer.\n",
        "            cols (int): number of output units for layer.\n",
        "        Returns:\n",
        "            NumPy Array consisting of weights for the layer based on the initialization in Saxe et al.\n",
        "        \"\"\"\n",
        "        tensor = self.rand_generator.normal(0, 1, (rows, cols))\n",
        "        if rows < cols:\n",
        "            tensor = tensor.T\n",
        "        tensor, r = np.linalg.qr(tensor)\n",
        "        d = np.diag(r, 0)\n",
        "        ph = np.sign(d)\n",
        "        tensor *= ph\n",
        "\n",
        "        if rows < cols:\n",
        "            tensor = tensor.T\n",
        "        return tensor\n",
        "    \n",
        "    def get_weights(self):\n",
        "        \"\"\"\n",
        "        Returns: \n",
        "            A copy of the current weights of this network.\n",
        "        \"\"\"\n",
        "        return deepcopy(self.weights)\n",
        "    \n",
        "    def set_weights(self, weights):\n",
        "        \"\"\"\n",
        "        Args: \n",
        "            weights (list of dictionaries): Consists of weights that this network will set as its own weights.\n",
        "        \"\"\"\n",
        "        self.weights = deepcopy(weights)"
      ]
    },
    {
      "cell_type": "markdown",
      "metadata": {
        "id": "QJbr4Ny1s37W"
      },
      "source": [
        "Testing the implementation of the `__init__()` function for ActionValueNetwork:\n",
        "\n",
        "**Expected output:** (assuming no changes to the previous cells)\n",
        "\n",
        "    layer_sizes: [ 5 20  3]"
      ]
    },
    {
      "cell_type": "code",
      "execution_count": 6,
      "metadata": {
        "colab": {
          "base_uri": "https://localhost:8080/"
        },
        "id": "kJWG10eGs37X",
        "outputId": "a242156b-374c-4222-dcf1-678195fc4809"
      },
      "outputs": [
        {
          "output_type": "stream",
          "name": "stdout",
          "text": [
            "layer_sizes: [ 5 20  3]\n"
          ]
        }
      ],
      "source": [
        "network_config = {\n",
        "    \"state_dim\": 5,\n",
        "    \"num_hidden_units\": 20,\n",
        "    \"num_actions\": 3\n",
        "}\n",
        "\n",
        "test_network = ActionValueNetwork(network_config)\n",
        "print(\"layer_sizes:\", test_network.layer_sizes)"
      ]
    },
    {
      "cell_type": "markdown",
      "metadata": {
        "id": "qnOJ6IrOs37Y"
      },
      "source": [
        "## Adam Optimizer\n",
        "\n",
        "The Adam algorithm improves the SGD update with two concepts: adaptive vector stepsizes and momentum. It keeps running estimates of the mean and second moment of the updates, denoted by $\\mathbf{m}$ and $\\mathbf{v}$ respectively:\n",
        "$$\\mathbf{m_t} = \\beta_m \\mathbf{m_{t-1}} + (1 - \\beta_m)g_t \\\\\n",
        "\\mathbf{v_t} = \\beta_v \\mathbf{v_{t-1}} + (1 - \\beta_v)g^2_t\n",
        "$$\n",
        "\n",
        "Here, $\\beta_m$ and $\\beta_v$ are fixed parameters controlling the linear combinations above and $g_t$ is the update at time $t$ (generally the gradients, but here the TD error times the gradients).\n",
        "\n",
        "Given that $\\mathbf{m}$ and $\\mathbf{v}$ are initialized to zero, they are biased toward zero. To get unbiased estimates of the mean and second moment, Adam defines $\\mathbf{\\hat{m}}$ and $\\mathbf{\\hat{v}}$ as:\n",
        "$$ \\mathbf{\\hat{m}_t} = \\frac{\\mathbf{m_t}}{1 - \\beta_m^t} \\\\\n",
        "\\mathbf{\\hat{v}_t} = \\frac{\\mathbf{v_t}}{1 - \\beta_v^t}\n",
        "$$\n",
        "\n",
        "The weights are then updated as follows:\n",
        "$$ \\mathbf{w_t} = \\mathbf{w_{t-1}} + \\frac{\\alpha}{\\sqrt{\\mathbf{\\hat{v}_t}}+\\epsilon} \\mathbf{\\hat{m}_t}\n",
        "$$\n",
        "\n",
        "Here, $\\alpha$ is the step size parameter and $\\epsilon$ is another small parameter to keep the denominator from being zero."
      ]
    },
    {
      "cell_type": "code",
      "execution_count": 7,
      "metadata": {
        "id": "nhPMsimgs37Y"
      },
      "outputs": [],
      "source": [
        "class Adam():\n",
        "    # Initialization for self.m and self.v.\n",
        "    def __init__(self, layer_sizes, \n",
        "                 optimizer_info):\n",
        "        self.layer_sizes = layer_sizes\n",
        "\n",
        "        # Adam algorithm's hyper parameters\n",
        "        self.step_size = optimizer_info.get(\"step_size\")\n",
        "        self.beta_m = optimizer_info.get(\"beta_m\")\n",
        "        self.beta_v = optimizer_info.get(\"beta_v\")\n",
        "        self.epsilon = optimizer_info.get(\"epsilon\")\n",
        "        \n",
        "        # Initializes Adam algorithm's m and v\n",
        "        self.m = [dict() for i in range(1, len(self.layer_sizes))]\n",
        "        self.v = [dict() for i in range(1, len(self.layer_sizes))]\n",
        "        \n",
        "        for i in range(0, len(self.layer_sizes) - 1):\n",
        "            # Initialization for m and v look very much like the initializations of the weights\n",
        "            # except for the fact that initialization here is to zeroes.\n",
        "            \n",
        "            self.m[i][\"W\"] = np.zeros((self.layer_sizes[i], self.layer_sizes[i+1]))\n",
        "            self.m[i][\"b\"] = np.zeros((1, self.layer_sizes[i+1]))\n",
        "            self.v[i][\"W\"] = np.zeros((self.layer_sizes[i], self.layer_sizes[i+1]))\n",
        "            self.v[i][\"b\"] = np.zeros((1, self.layer_sizes[i+1]))\n",
        "            \n",
        "            \n",
        "            \n",
        "        # To calculate m_hat and v_hat, we use powers of beta_m and beta_v to the time step t.\n",
        "        self.beta_m_product = self.beta_m\n",
        "        self.beta_v_product = self.beta_v\n",
        "    \n",
        "    def update_weights(self, weights, td_errors_times_gradients):\n",
        "        \"\"\"\n",
        "        Args:\n",
        "            weights (Array of dictionaries): The weights of the neural network.\n",
        "            td_errors_times_gradients (Array of dictionaries): The gradient of the \n",
        "            action-values with respect to the network's weights times the TD-error\n",
        "        Returns:\n",
        "            The updated weights (Array of dictionaries).\n",
        "        \"\"\"\n",
        "        for i in range(len(weights)):\n",
        "            for param in weights[i].keys():\n",
        "                # Computes how much the weights should be incremented by.\n",
        "                \n",
        "                self.m[i][param] = self.beta_m * self.m[i][param] + (1 - self.beta_m) * td_errors_times_gradients[i][param]\n",
        "                self.v[i][param] = self.beta_v * self.v[i][param] + (1 - self.beta_v) * (td_errors_times_gradients[i][param] * td_errors_times_gradients[i][param])\n",
        "                m_hat = self.m[i][param] / (1 - self.beta_m_product)\n",
        "                v_hat = self.v[i][param] / (1 - self.beta_v_product)\n",
        "                \n",
        "                weight_update = self.step_size * m_hat / (np.sqrt(v_hat) + self.epsilon)\n",
        "                \n",
        "                weights[i][param] = weights[i][param] + weight_update\n",
        "        # To calculate m_hat and v_hat, we use powers of beta_m and beta_v to update self.beta_m_product and self.beta_v_product\n",
        "        self.beta_m_product *= self.beta_m\n",
        "        self.beta_v_product *= self.beta_v\n",
        "        \n",
        "        return weights"
      ]
    },
    {
      "cell_type": "markdown",
      "metadata": {
        "id": "jF8IT_EDs37Z"
      },
      "source": [
        "Testing the implementation of the `__init__()` function:\n",
        "\n",
        "**Expected output:**\n",
        "\n",
        "    m[0][\"W\"] shape: (5, 2)\n",
        "    m[0][\"b\"] shape: (1, 2)\n",
        "    m[1][\"W\"] shape: (2, 3)\n",
        "    m[1][\"b\"] shape: (1, 3) \n",
        "\n",
        "    v[0][\"W\"] shape: (5, 2)\n",
        "    v[0][\"b\"] shape: (1, 2)\n",
        "    v[1][\"W\"] shape: (2, 3)\n",
        "    v[1][\"b\"] shape: (1, 3) "
      ]
    },
    {
      "cell_type": "code",
      "execution_count": 8,
      "metadata": {
        "colab": {
          "base_uri": "https://localhost:8080/"
        },
        "id": "_-juNs1Hs37a",
        "outputId": "5605fae6-24cd-49ce-a385-dd6a26636566"
      },
      "outputs": [
        {
          "output_type": "stream",
          "name": "stdout",
          "text": [
            "m[0][\"W\"] shape: (5, 2)\n",
            "m[0][\"b\"] shape: (1, 2)\n",
            "m[1][\"W\"] shape: (2, 3)\n",
            "m[1][\"b\"] shape: (1, 3) \n",
            "\n",
            "v[0][\"W\"] shape: (5, 2)\n",
            "v[0][\"b\"] shape: (1, 2)\n",
            "v[1][\"W\"] shape: (2, 3)\n",
            "v[1][\"b\"] shape: (1, 3) \n",
            "\n"
          ]
        }
      ],
      "source": [
        "network_config = {\"state_dim\": 5,\n",
        "                  \"num_hidden_units\": 2,\n",
        "                  \"num_actions\": 3\n",
        "                 }\n",
        "\n",
        "optimizer_info = {\"step_size\": 0.1,\n",
        "                  \"beta_m\": 0.99,\n",
        "                  \"beta_v\": 0.999,\n",
        "                  \"epsilon\": 0.0001\n",
        "                 }\n",
        "\n",
        "network = ActionValueNetwork(network_config)\n",
        "test_adam = Adam(network.layer_sizes, optimizer_info)\n",
        "\n",
        "print(\"m[0][\\\"W\\\"] shape: {}\".format(test_adam.m[0][\"W\"].shape))\n",
        "print(\"m[0][\\\"b\\\"] shape: {}\".format(test_adam.m[0][\"b\"].shape))\n",
        "print(\"m[1][\\\"W\\\"] shape: {}\".format(test_adam.m[1][\"W\"].shape))\n",
        "print(\"m[1][\\\"b\\\"] shape: {}\".format(test_adam.m[1][\"b\"].shape), \"\\n\")\n",
        "\n",
        "assert(np.allclose(test_adam.m[0][\"W\"].shape, np.array([5, 2])))\n",
        "assert(np.allclose(test_adam.m[0][\"b\"].shape, np.array([1, 2])))\n",
        "assert(np.allclose(test_adam.m[1][\"W\"].shape, np.array([2, 3])))\n",
        "assert(np.allclose(test_adam.m[1][\"b\"].shape, np.array([1, 3])))\n",
        "\n",
        "print(\"v[0][\\\"W\\\"] shape: {}\".format(test_adam.v[0][\"W\"].shape))\n",
        "print(\"v[0][\\\"b\\\"] shape: {}\".format(test_adam.v[0][\"b\"].shape))\n",
        "print(\"v[1][\\\"W\\\"] shape: {}\".format(test_adam.v[1][\"W\"].shape))\n",
        "print(\"v[1][\\\"b\\\"] shape: {}\".format(test_adam.v[1][\"b\"].shape), \"\\n\")\n",
        "\n",
        "assert(np.allclose(test_adam.v[0][\"W\"].shape, np.array([5, 2])))\n",
        "assert(np.allclose(test_adam.v[0][\"b\"].shape, np.array([1, 2])))\n",
        "assert(np.allclose(test_adam.v[1][\"W\"].shape, np.array([2, 3])))\n",
        "assert(np.allclose(test_adam.v[1][\"b\"].shape, np.array([1, 3])))\n",
        "\n",
        "assert(np.all(test_adam.m[0][\"W\"]==0))\n",
        "assert(np.all(test_adam.m[0][\"b\"]==0))\n",
        "assert(np.all(test_adam.m[1][\"W\"]==0))\n",
        "assert(np.all(test_adam.m[1][\"b\"]==0))\n",
        "\n",
        "assert(np.all(test_adam.v[0][\"W\"]==0))\n",
        "assert(np.all(test_adam.v[0][\"b\"]==0))\n",
        "assert(np.all(test_adam.v[1][\"W\"]==0))\n",
        "assert(np.all(test_adam.v[1][\"b\"]==0))"
      ]
    },
    {
      "cell_type": "markdown",
      "metadata": {
        "id": "JS3-Ebacs37a"
      },
      "source": [
        "## Experience Replay Buffers\n",
        "\n",
        "Experience replay is a simple method that can get some of the advantages of Dyna by saving a buffer of experience and using the data stored in the buffer as a model. This view of prior data as a model works because the data represents actual transitions from the underlying MDP. Furthermore, as a side note, this kind of model that is not learned and simply a collection of experience can be called non-parametric as it can be ever-growing as opposed to a parametric model where the transitions are learned to be represented with a fixed set of parameters or weights."
      ]
    },
    {
      "cell_type": "code",
      "execution_count": 9,
      "metadata": {
        "id": "4cvffizqs37b"
      },
      "outputs": [],
      "source": [
        "class ReplayBuffer:\n",
        "    def __init__(self, size, minibatch_size, seed):\n",
        "        \"\"\"\n",
        "        Args:\n",
        "            size (integer): The size of the replay buffer.              \n",
        "            minibatch_size (integer): The sample size.\n",
        "            seed (integer): The seed for the random number generator. \n",
        "        \"\"\"\n",
        "        self.buffer = []\n",
        "        self.minibatch_size = minibatch_size\n",
        "        self.rand_generator = np.random.RandomState(seed)\n",
        "        self.max_size = size\n",
        "\n",
        "    def append(self, state, action, reward, terminal, next_state):\n",
        "        \"\"\"\n",
        "        Args:\n",
        "            state (Numpy array): The state.              \n",
        "            action (integer): The action.\n",
        "            reward (float): The reward.\n",
        "            terminal (integer): 1 if the next state is a terminal state and 0 otherwise.\n",
        "            next_state (Numpy array): The next state.           \n",
        "        \"\"\"\n",
        "        if len(self.buffer) == self.max_size:\n",
        "            del self.buffer[0]\n",
        "        self.buffer.append([state, action, reward, terminal, next_state])\n",
        "\n",
        "    def sample(self):\n",
        "        \"\"\"\n",
        "        Returns:\n",
        "            A list of transition tuples including state, action, reward, terinal, and next_state\n",
        "        \"\"\"\n",
        "        idxs = self.rand_generator.choice(np.arange(len(self.buffer)), size=self.minibatch_size)\n",
        "        return [self.buffer[idx] for idx in idxs]\n",
        "\n",
        "    def size(self):\n",
        "        return len(self.buffer)"
      ]
    },
    {
      "cell_type": "markdown",
      "metadata": {
        "id": "vDbWpdQHs37b"
      },
      "source": [
        "## Softmax Policy\n",
        "\n",
        "One advantage of a softmax policy is that it explores according to the action-values, meaning that an action with a moderate value has a higher chance of getting selected compared to an action with a lower value. Contrast this with an $\\epsilon$-greedy policy which does not consider the individual action values when choosing an exploratory action in a state and instead chooses randomly when doing so.\n",
        "\n",
        "The probability of selecting each action according to the softmax policy is shown below:\n",
        "$$Pr{(A_t=a | S_t=s)} \\hspace{0.1cm} \\dot{=} \\hspace{0.1cm} \\frac{e^{Q(s, a)/\\tau}}{\\sum_{b \\in A}e^{Q(s, b)/\\tau}}$$\n",
        "where $\\tau$ is the temperature parameter which controls how much the agent focuses on the highest valued actions. The smaller the temperature, the more the agent selects the greedy action. Conversely, when the temperature is high, the agent selects among actions more uniformly random.\n",
        "\n",
        "Given that a softmax policy exponentiates action values, if those values are large, exponentiating them could get very large. To implement the softmax policy in a numerically stable way, we often subtract the maximum action-value from the action-values. If we do so, the probability of selecting each action looks as follows:\n",
        "\n",
        "$$Pr{(A_t=a | S_t=s)} \\hspace{0.1cm} \\dot{=} \\hspace{0.1cm} \\frac{e^{Q(s, a)/\\tau - max_{c}Q(s, c)/\\tau}}{\\sum_{b \\in A}e^{Q(s, b)/\\tau - max_{c}Q(s, c)/\\tau}}$$"
      ]
    },
    {
      "cell_type": "code",
      "execution_count": 10,
      "metadata": {
        "id": "LcG1K0nPs37c"
      },
      "outputs": [],
      "source": [
        "def softmax(action_values, tau=1.0):\n",
        "    \"\"\"\n",
        "    Args:\n",
        "        action_values (Numpy array): A 2D array of shape (batch_size, num_actions). \n",
        "                       The action-values computed by an action-value network.              \n",
        "        tau (float): The temperature parameter scalar.\n",
        "    Returns:\n",
        "        A 2D array of shape (batch_size, num_actions). Where each column is a probability distribution over\n",
        "        the actions representing the policy.\n",
        "    \"\"\"\n",
        "    \n",
        "    # Computes the preferences by dividing the action-values by the temperature parameter tau\n",
        "    preferences = action_values / tau\n",
        "    # Computes the maximum preference across the actions\n",
        "    max_preference = np.max(preferences, 1)\n",
        "\n",
        "    \n",
        "    # Reshapes max_preference array which has shape [Batch,] to [Batch, 1]. This allows NumPy broadcasting \n",
        "    # when subtracting the maximum preference from the preference of each action.\n",
        "    reshaped_max_preference = max_preference.reshape((-1, 1))\n",
        "    \n",
        "    # Computes the numerator, i.e., the exponential of the preference - the max preference.\n",
        "    exp_preferences = np.exp(preferences - reshaped_max_preference)\n",
        "    # Compute the denominator, i.e., the sum over the numerator along the actions axis.\n",
        "    sum_of_exp_preferences = np.sum(exp_preferences, 1)\n",
        "    \n",
        "    \n",
        "    # Reshapes sum_of_exp_preferences array which has shape [Batch,] to [Batch, 1] to  allow for NumPy broadcasting \n",
        "    # when dividing the numerator by the denominator.\n",
        "    reshaped_sum_of_exp_preferences = sum_of_exp_preferences.reshape((-1, 1))\n",
        "    \n",
        "    # Computes the action probabilities according to the equation in the previous cell.\n",
        "    action_probs = exp_preferences / reshaped_sum_of_exp_preferences\n",
        "    \n",
        "    \n",
        "    \n",
        "    \n",
        "    # squeeze() removes any singleton dimensions. It is used here because this function is used in the \n",
        "    # agent policy when selecting an action (for which the batch dimension is 1.) As np.random.choice is used in \n",
        "    # the agent policy and it expects 1D arrays, we need to remove this singleton batch dimension.\n",
        "    action_probs = action_probs.squeeze()\n",
        "    return action_probs"
      ]
    },
    {
      "cell_type": "markdown",
      "metadata": {
        "id": "pejHIflrs37c"
      },
      "source": [
        "Testing the implementation of the `softmax()` function:\n",
        "\n",
        "**Expected output:**\n",
        "\n",
        "    action_probs [[0.25849645 0.01689625 0.05374514 0.67086216]\n",
        "     [0.84699852 0.00286345 0.13520063 0.01493741]]"
      ]
    },
    {
      "cell_type": "code",
      "execution_count": 11,
      "metadata": {
        "colab": {
          "base_uri": "https://localhost:8080/"
        },
        "id": "Bacz874vs37c",
        "outputId": "3ca43817-f875-43eb-eb8f-4b0acf47eeb3"
      },
      "outputs": [
        {
          "output_type": "stream",
          "name": "stdout",
          "text": [
            "action_probs [[0.25849645 0.01689625 0.05374514 0.67086216]\n",
            " [0.84699852 0.00286345 0.13520063 0.01493741]]\n"
          ]
        }
      ],
      "source": [
        "rand_generator = np.random.RandomState(0)\n",
        "action_values = rand_generator.normal(0, 1, (2, 4))\n",
        "tau = 0.5\n",
        "\n",
        "action_probs = softmax(action_values, tau)\n",
        "print(\"action_probs\", action_probs)\n",
        "\n",
        "assert(np.allclose(action_probs, np.array([\n",
        "    [0.25849645, 0.01689625, 0.05374514, 0.67086216],\n",
        "    [0.84699852, 0.00286345, 0.13520063, 0.01493741]\n",
        "])))"
      ]
    },
    {
      "cell_type": "markdown",
      "metadata": {
        "id": "pgN-Q8QEs37d"
      },
      "source": [
        "## Lunar Lander with Expected Sarsa (putting all together)\n",
        "\n",
        "At time $t$, we have an action-value function represented as a neural network, say $Q_t$. We want to update our action-value function and get a new one we can use at the next timestep. We will get this $Q_{t+1}$ using multiple replay steps that each result in an intermediate action-value function $Q_{t+1}^{i}$ where $i$ indexes which replay step we are at.\n",
        "\n",
        "In each replay step, we sample a batch of experiences from the replay buffer and compute a minibatch Expected-SARSA update. Across these N replay steps, we will use the current \"un-updated\" action-value network at time $t$, $Q_t$, for computing the action-values of the next-states. This contrasts using the most recent action-values from the last replay step $Q_{t+1}^{i}$. We make this choice to have targets that are stable across replay steps. Here is the pseudocode for performing the updates:\n",
        "\n",
        "$$\n",
        "\\begin{align}\n",
        "& Q_t \\leftarrow \\text{action-value network at timestep t (current action-value network)}\\\\\n",
        "& \\text{Initialize } Q_{t+1}^1 \\leftarrow Q_t\\\\\n",
        "& \\text{For } i \\text{ in } [1, ..., N] \\text{ (i.e. N} \\text{  replay steps)}:\\\\\n",
        "& \\hspace{1cm} s, a, r, t, s'\n",
        "\\leftarrow \\text{Sample batch of experiences from experience replay buffer} \\\\\n",
        "& \\hspace{1cm} \\text{Do Expected Sarsa update with } Q_t: Q_{t+1}^{i+1}(s, a) \\leftarrow Q_{t+1}^{i}(s, a) + \\alpha \\cdot \\left[r + \\gamma \\left(\\sum_{b} \\pi(b | s') Q_t(s', b)\\right) - Q_{t+1}^{i}(s, a)\\right]\\\\\n",
        "& \\hspace{1.5cm} \\text{ making sure to add the } \\gamma \\left(\\sum_{b} \\pi(b | s') Q_t(s', b)\\right) \\text{ for non-terminal transitions only.} \\\\\n",
        "& \\text{After N replay steps, we set } Q_{t+1}^{N} \\text{ as } Q_{t+1} \\text{ and have a new } Q_{t+1} \\text{for time step } t + 1 \\text{ that we will fix in the next set of updates. }\n",
        "\\end{align}\n",
        "$$\n",
        "\n",
        "In the pseudocode, after sampling a batch of experiences, we do many computations. The basic idea however is that we are looking to compute a form of a TD error. In order to so, we can take the following steps:\n",
        "- compute the action-values for the next states using the action-value network $Q_{t}$,\n",
        "- compute the policy $\\pi(b | s')$ induced by the action-values $Q_{t}$ (using the softmax function you implemented before),\n",
        "- compute the Expected sarsa targets $r + \\gamma \\left(\\sum_{b} \\pi(b | s') Q_t(s', b)\\right)$,\n",
        "- compute the action-values for the current states using the latest $Q_{t + 1}$, and,\n",
        "- compute the TD-errors with the Expected Sarsa targets.\n",
        " \n",
        "For the third step above, we start by computing $\\pi(b | s') Q_t(s', b)$ followed by summation to get $\\hat{v}_\\pi(s') = \\left(\\sum_{b} \\pi(b | s') Q_t(s', b)\\right)$. $\\hat{v}_\\pi(s')$ is an estimate of the value of the next state. Note for terminal next states, $\\hat{v}_\\pi(s') = 0$. Finally, we add the rewards to the discount times $\\hat{v}_\\pi(s')$."
      ]
    },
    {
      "cell_type": "code",
      "execution_count": 12,
      "metadata": {
        "id": "g2KsGmZYs37d"
      },
      "outputs": [],
      "source": [
        "def get_td_error(states, next_states, actions, rewards, discount, terminals, network, current_q, tau):\n",
        "    \"\"\"\n",
        "    Args:\n",
        "        states (Numpy array): The batch of states with the shape (batch_size, state_dim).\n",
        "        next_states (Numpy array): The batch of next states with the shape (batch_size, state_dim).\n",
        "        actions (Numpy array): The batch of actions with the shape (batch_size,).\n",
        "        rewards (Numpy array): The batch of rewards with the shape (batch_size,).\n",
        "        discount (float): The discount factor.\n",
        "        terminals (Numpy array): The batch of terminals with the shape (batch_size,).\n",
        "        network (ActionValueNetwork): The latest state of the network that is getting replay updates.\n",
        "        current_q (ActionValueNetwork): The fixed network used for computing the targets, \n",
        "                                        and particularly, the action-values at the next-states.\n",
        "    Returns:\n",
        "        The TD errors (Numpy array) for actions taken, of shape (batch_size,)\n",
        "    \"\"\"\n",
        "    \n",
        "    # Here network is the latest state of the network that is getting replay updates. In other words, \n",
        "    # the network represents Q_{t+1}^{i} whereas current_q represents Q_t, the fixed network used for computing the \n",
        "    # targets, and particularly, the action-values at the next-states.\n",
        "    \n",
        "    # Computes action values at next states using current_q network\n",
        "    # q_next_mat is a 2D array of shape (batch_size, num_actions)\n",
        "    \n",
        "\n",
        "    q_next_mat = None\n",
        "    q_next_mat = current_q.get_action_values(next_states)\n",
        "    \n",
        "    # Computes policy at next state by passing the action-values in q_next_mat to softmax()\n",
        "    # probs_mat is a 2D array of shape (batch_size, num_actions)\n",
        "    \n",
        "\n",
        "    probs_mat = None\n",
        "    probs_mat = softmax(q_next_mat, tau)\n",
        "    \n",
        "    # Computes the estimate of the next state value, v_next_vec.\n",
        "    # v_next_vec is a 1D array of shape (batch_size,)\n",
        "    \n",
        "    v_next_vec = None\n",
        "    v_next_vec = np.sum(q_next_mat*probs_mat, 1) * (1 - terminals)\n",
        "    \n",
        "    # Computes Expected Sarsa target\n",
        "    # target_vec is a 1D array of shape (batch_size,)\n",
        "    \n",
        "    target_vec = None\n",
        "    target_vec = rewards + discount * v_next_vec\n",
        "    \n",
        "    # Computes action values at the current states for all actions using network\n",
        "    # q_mat is a 2D array of shape (batch_size, num_actions)\n",
        "    \n",
        "    q_mat = None\n",
        "    q_mat = network.get_action_values(states)\n",
        "    \n",
        "    # Batch Indices is an array from 0 to the batch size - 1. \n",
        "    batch_indices = np.arange(q_mat.shape[0])\n",
        "\n",
        "    # Computes q_vec by selecting q(s, a) from q_mat for taken actions\n",
        "    # q_vec is a 1D array of shape (batch_size)\n",
        "    \n",
        "    q_vec = None\n",
        "    q_vec = q_mat[batch_indices, actions]\n",
        "    \n",
        "    # Computes TD errors for actions taken\n",
        "    # delta_vec is a 1D array of shape (batch_size)\n",
        "    \n",
        "    delta_vec = None\n",
        "    delta_vec = target_vec - q_vec\n",
        "    \n",
        "    return delta_vec"
      ]
    },
    {
      "cell_type": "markdown",
      "metadata": {
        "id": "lD13dmJas37e"
      },
      "source": [
        "Testing the implementation of the `get_td_error()` function:"
      ]
    },
    {
      "cell_type": "code",
      "execution_count": 13,
      "metadata": {
        "colab": {
          "base_uri": "https://localhost:8080/"
        },
        "id": "DIBXDBxbs37f",
        "outputId": "a1f8eb9b-3010-4e2a-9728-ee0e4718faad"
      },
      "outputs": [
        {
          "output_type": "stream",
          "name": "stdout",
          "text": [
            "Passed the asserts! (Note: These are however limited in scope, additional testing is encouraged.)\n"
          ]
        }
      ],
      "source": [
        "data = np.load(\"asserts/get_td_error_1.npz\", allow_pickle=True)\n",
        "\n",
        "states = data[\"states\"]\n",
        "next_states = data[\"next_states\"]\n",
        "actions = data[\"actions\"]\n",
        "rewards = data[\"rewards\"]\n",
        "discount = data[\"discount\"]\n",
        "terminals = data[\"terminals\"]\n",
        "tau = 0.001\n",
        "\n",
        "network_config = {\"state_dim\": 8,\n",
        "                  \"num_hidden_units\": 512,\n",
        "                  \"num_actions\": 4\n",
        "                  }\n",
        "\n",
        "network = ActionValueNetwork(network_config)\n",
        "network.set_weights(data[\"network_weights\"])\n",
        "\n",
        "current_q = ActionValueNetwork(network_config)\n",
        "current_q.set_weights(data[\"current_q_weights\"])\n",
        "\n",
        "delta_vec = get_td_error(states, next_states, actions, rewards, discount, terminals, network, current_q, tau)\n",
        "answer_delta_vec = data[\"delta_vec\"]\n",
        "\n",
        "assert(np.allclose(delta_vec, answer_delta_vec))\n",
        "print(\"Passed the asserts! (Note: These are however limited in scope, additional testing is encouraged.)\")"
      ]
    },
    {
      "cell_type": "markdown",
      "metadata": {
        "id": "lOLaLS90s37f"
      },
      "source": [
        "Now that we implemented the `get_td_error()` function, we used it to implement the `optimize_network()` function. In this function, we:\n",
        "- get the TD-errors vector from `get_td_error()`,\n",
        "- make the TD-errors into a matrix using zeroes for actions not taken in the transitions,\n",
        "- pass the TD-errors matrix to the `get_TD_update()` function of network to calculate the gradients times TD errors, and,\n",
        "- perform an ADAM optimizer step."
      ]
    },
    {
      "cell_type": "code",
      "execution_count": 14,
      "metadata": {
        "id": "SQMr6kNks37f"
      },
      "outputs": [],
      "source": [
        "def optimize_network(experiences, discount, optimizer, network, current_q, tau):\n",
        "    \"\"\"\n",
        "    Args:\n",
        "        experiences (Numpy array): The batch of experiences including the states, actions, \n",
        "                                   rewards, terminals, and next_states.\n",
        "        discount (float): The discount factor.\n",
        "        network (ActionValueNetwork): The latest state of the network that is getting replay updates.\n",
        "        current_q (ActionValueNetwork): The fixed network used for computing the targets, \n",
        "                                        and particularly, the action-values at the next-states.\n",
        "    \"\"\"\n",
        "    \n",
        "    # Getting states, action, rewards, terminals, and next_states from experiences\n",
        "    states, actions, rewards, terminals, next_states = map(list, zip(*experiences))\n",
        "    states = np.concatenate(states)\n",
        "    next_states = np.concatenate(next_states)\n",
        "    rewards = np.array(rewards)\n",
        "    terminals = np.array(terminals)\n",
        "    batch_size = states.shape[0]\n",
        "\n",
        "    # Computes TD error using the get_td_error function\n",
        "    # q_vec is a 1D array of shape (batch_size)\n",
        "    delta_vec = get_td_error(states, next_states, actions, rewards, discount, terminals, network, current_q, tau)\n",
        "\n",
        "    # Batch Indices is an array from 0 to the batch_size - 1. \n",
        "    batch_indices = np.arange(batch_size)\n",
        "\n",
        "    # Makes a td error matrix of shape (batch_size, num_actions)\n",
        "    # delta_mat has non-zero value only for actions taken\n",
        "    delta_mat = np.zeros((batch_size, network.num_actions))\n",
        "    delta_mat[batch_indices, actions] = delta_vec\n",
        "\n",
        "    # Passing delta_mat to compute the TD errors times the gradients of the network's weights from back-propagation\n",
        "    td_update = None\n",
        "    td_update = network.get_TD_update(states, delta_mat)\n",
        "    \n",
        "    # Passing network.get_weights and the td_update to the optimizer to get updated weights\n",
        "    weights = None\n",
        "    weights = optimizer.update_weights(network.get_weights(), td_update)\n",
        "    \n",
        "    network.set_weights(weights)"
      ]
    },
    {
      "cell_type": "markdown",
      "metadata": {
        "id": "f5hJsSrls37f"
      },
      "source": [
        "Testing the implementation of the `optimize_network()` function:"
      ]
    },
    {
      "cell_type": "code",
      "execution_count": 15,
      "metadata": {
        "id": "e1uTHuLds37g"
      },
      "outputs": [],
      "source": [
        "input_data = np.load(\"asserts/optimize_network_input_1.npz\", allow_pickle=True)\n",
        "\n",
        "experiences = list(input_data[\"experiences\"])\n",
        "discount = input_data[\"discount\"]\n",
        "tau = 0.001\n",
        "\n",
        "network_config = {\"state_dim\": 8,\n",
        "                  \"num_hidden_units\": 512,\n",
        "                  \"num_actions\": 4\n",
        "                  }\n",
        "\n",
        "network = ActionValueNetwork(network_config)\n",
        "network.set_weights(input_data[\"network_weights\"])\n",
        "\n",
        "current_q = ActionValueNetwork(network_config)\n",
        "current_q.set_weights(input_data[\"current_q_weights\"])\n",
        "\n",
        "optimizer_config = {'step_size': 3e-5, \n",
        "                    'beta_m': 0.9, \n",
        "                    'beta_v': 0.999,\n",
        "                    'epsilon': 1e-8\n",
        "                   }\n",
        "optimizer = Adam(network.layer_sizes, optimizer_config)\n",
        "optimizer.m = input_data[\"optimizer_m\"]\n",
        "optimizer.v = input_data[\"optimizer_v\"]\n",
        "optimizer.beta_m_product = input_data[\"optimizer_beta_m_product\"]\n",
        "optimizer.beta_v_product = input_data[\"optimizer_beta_v_product\"]\n",
        "\n",
        "optimize_network(experiences, discount, optimizer, network, current_q, tau)\n",
        "updated_weights = network.get_weights()\n",
        "\n",
        "output_data = np.load(\"asserts/optimize_network_output_1.npz\", allow_pickle=True)\n",
        "answer_updated_weights = output_data[\"updated_weights\"]\n",
        "\n",
        "assert(np.allclose(updated_weights[0][\"W\"], answer_updated_weights[0][\"W\"]))\n",
        "assert(np.allclose(updated_weights[0][\"b\"], answer_updated_weights[0][\"b\"]))\n",
        "assert(np.allclose(updated_weights[1][\"W\"], answer_updated_weights[1][\"W\"]))\n",
        "assert(np.allclose(updated_weights[1][\"b\"], answer_updated_weights[1][\"b\"]))"
      ]
    },
    {
      "cell_type": "markdown",
      "metadata": {
        "id": "bU4LDPzHs37g"
      },
      "source": [
        "Now that we implemented the `optimize_network()` function, we implemented the agent. In the cell below, we filled the `agent_step()` and `agent_end()` functions. We:\n",
        "- selected an action (only in `agent_step()`),\n",
        "- add transitions (consisting of the state, action, reward, terminal, and next state) to the replay buffer, and,\n",
        "- updated the weights of the neural network by doing multiple replay steps and calling the `optimize_network()` function that you implemented above."
      ]
    },
    {
      "cell_type": "code",
      "execution_count": 16,
      "metadata": {
        "id": "0A825G-As37g"
      },
      "outputs": [],
      "source": [
        "class Agent(BaseAgent):\n",
        "    def __init__(self):\n",
        "        self.name = \"expected_sarsa_agent\"\n",
        "        \n",
        "    def agent_init(self, agent_config):\n",
        "        \"\"\"Setup for the agent called when the experiment first starts.\n",
        "\n",
        "        Set parameters needed to setup the agent.\n",
        "\n",
        "        Assume agent_config dict contains:\n",
        "        {\n",
        "            network_config: dictionary,\n",
        "            optimizer_config: dictionary,\n",
        "            replay_buffer_size: integer,\n",
        "            minibatch_sz: integer, \n",
        "            num_replay_updates_per_step: float\n",
        "            discount_factor: float,\n",
        "        }\n",
        "        \"\"\"\n",
        "        self.replay_buffer = ReplayBuffer(agent_config['replay_buffer_size'], \n",
        "                                          agent_config['minibatch_sz'], agent_config.get(\"seed\"))\n",
        "        self.network = ActionValueNetwork(agent_config['network_config'])\n",
        "        self.optimizer = Adam(self.network.layer_sizes, agent_config[\"optimizer_config\"])\n",
        "        self.num_actions = agent_config['network_config']['num_actions']\n",
        "        self.num_replay = agent_config['num_replay_updates_per_step']\n",
        "        self.discount = agent_config['gamma']\n",
        "        self.tau = agent_config['tau']\n",
        "        \n",
        "        self.rand_generator = np.random.RandomState(agent_config.get(\"seed\"))\n",
        "        \n",
        "        self.last_state = None\n",
        "        self.last_action = None\n",
        "        \n",
        "        self.sum_rewards = 0\n",
        "        self.episode_steps = 0\n",
        "\n",
        "    def policy(self, state):\n",
        "        \"\"\"\n",
        "        Args:\n",
        "            state (Numpy array): the state.\n",
        "        Returns:\n",
        "            the action. \n",
        "        \"\"\"\n",
        "        action_values = self.network.get_action_values(state)\n",
        "        probs_batch = softmax(action_values, self.tau)\n",
        "        action = self.rand_generator.choice(self.num_actions, p=probs_batch.squeeze())\n",
        "        return action\n",
        "\n",
        "    def agent_start(self, state):\n",
        "        \"\"\"The first method called when the experiment starts, called after\n",
        "        the environment starts.\n",
        "        Args:\n",
        "            state (Numpy array): the state from the\n",
        "                environment's evn_start function.\n",
        "        Returns:\n",
        "            The first action the agent takes.\n",
        "        \"\"\"\n",
        "        self.sum_rewards = 0\n",
        "        self.episode_steps = 0\n",
        "        self.last_state = np.array([state])\n",
        "        self.last_action = self.policy(self.last_state)\n",
        "        return self.last_action\n",
        "\n",
        "    # weights update using optimize_network, and updating last_state and last_action (~5 lines).\n",
        "    def agent_step(self, reward, state):\n",
        "        \"\"\"A step taken by the agent.\n",
        "        Args:\n",
        "            reward (float): the reward received for taking the last action taken\n",
        "            state (Numpy array): the state from the\n",
        "                environment's step based, where the agent ended up after the\n",
        "                last step\n",
        "        Returns:\n",
        "            The action the agent is taking.\n",
        "        \"\"\"\n",
        "        \n",
        "        self.sum_rewards += reward\n",
        "        self.episode_steps += 1\n",
        "\n",
        "        # Makes state an array of shape (1, state_dim) to add a batch dimension and\n",
        "        # to later match the get_action_values() and get_TD_update() functions\n",
        "        state = np.array([state])\n",
        "\n",
        "        action = self.policy(state)\n",
        "        \n",
        "        # Appended new experience to replay buffer\n",
        "\n",
        "        self.replay_buffer.append(self.last_state, self.last_action, reward, 0, state)\n",
        "        \n",
        "        # Performing replay steps:\n",
        "        if self.replay_buffer.size() > self.replay_buffer.minibatch_size:\n",
        "            current_q = deepcopy(self.network)\n",
        "            for _ in range(self.num_replay):\n",
        "                \n",
        "                # Getting sample experiences from the replay buffer\n",
        "                experiences = self.replay_buffer.sample()\n",
        "                \n",
        "                # Calling optimize_network to update the weights of the network (~1 Line)\n",
        "                optimize_network(experiences, self.discount, self.optimizer, self.network, current_q, self.tau) \n",
        "                \n",
        "\n",
        "        self.last_state = None\n",
        "        self.last_action = None\n",
        "\n",
        "        self.last_state = state\n",
        "        self.last_action = action\n",
        "        \n",
        "        return action\n",
        "\n",
        "    def agent_end(self, reward):\n",
        "        \"\"\"Run when the agent terminates.\n",
        "        Args:\n",
        "            reward (float): the reward the agent received for entering the\n",
        "                terminal state.\n",
        "        \"\"\"\n",
        "        self.sum_rewards += reward\n",
        "        self.episode_steps += 1\n",
        "        \n",
        "        # Setting terminal state to an array of zeros\n",
        "        state = np.zeros_like(self.last_state)\n",
        "\n",
        "        # Appending new experience to replay buffer\n",
        "        self.replay_buffer.append(self.last_state, self.last_action, reward, 1, state)\n",
        "        \n",
        "        # Performing replay steps:\n",
        "        if self.replay_buffer.size() > self.replay_buffer.minibatch_size:\n",
        "            current_q = deepcopy(self.network)\n",
        "            for _ in range(self.num_replay):\n",
        "                \n",
        "                # Getting sample experiences from the replay buffer\n",
        "                experiences = self.replay_buffer.sample()\n",
        "                \n",
        "                # Calling optimize_network to update the weights of the network\n",
        "                optimize_network(experiences, self.discount, self.optimizer, self.network, current_q, self.tau) \n",
        "                \n",
        "        \n",
        "    def agent_message(self, message):\n",
        "        if message == \"get_sum_reward\":\n",
        "            return self.sum_rewards\n",
        "        else:\n",
        "            raise Exception(\"Unrecognized Message!\")"
      ]
    },
    {
      "cell_type": "markdown",
      "metadata": {
        "id": "SJHQsnQ1s37h"
      },
      "source": [
        "Testing the implementation of the `agent_step()` function:"
      ]
    },
    {
      "cell_type": "code",
      "execution_count": 17,
      "metadata": {
        "colab": {
          "base_uri": "https://localhost:8080/"
        },
        "id": "raEm1luZs37h",
        "outputId": "44819cc5-718e-4774-bf02-c851ecba6efe"
      },
      "outputs": [
        {
          "output_type": "stream",
          "name": "stderr",
          "text": [
            "/usr/local/lib/python3.7/dist-packages/ipykernel_launcher.py:64: VisibleDeprecationWarning: Creating an ndarray from ragged nested sequences (which is a list-or-tuple of lists-or-tuples-or ndarrays with different lengths or shapes) is deprecated. If you meant to do this, you must specify 'dtype=object' when creating the ndarray.\n"
          ]
        }
      ],
      "source": [
        "agent_info = {\n",
        "             'network_config': {\n",
        "                 'state_dim': 8,\n",
        "                 'num_hidden_units': 256,\n",
        "                 'num_hidden_layers': 1,\n",
        "                 'num_actions': 4\n",
        "             },\n",
        "             'optimizer_config': {\n",
        "                 'step_size': 3e-5, \n",
        "                 'beta_m': 0.9, \n",
        "                 'beta_v': 0.999,\n",
        "                 'epsilon': 1e-8\n",
        "             },\n",
        "             'replay_buffer_size': 32,\n",
        "             'minibatch_sz': 32,\n",
        "             'num_replay_updates_per_step': 4,\n",
        "             'gamma': 0.99,\n",
        "             'tau': 1000.0,\n",
        "             'seed': 0}\n",
        "\n",
        "# Initialize agent\n",
        "agent = Agent()\n",
        "agent.agent_init(agent_info)\n",
        "\n",
        "# load agent network, optimizer, replay_buffer from the agent_input_1.npz file\n",
        "input_data = np.load(\"asserts/agent_input_1.npz\", allow_pickle=True)\n",
        "agent.network.set_weights(input_data[\"network_weights\"])\n",
        "agent.optimizer.m = input_data[\"optimizer_m\"]\n",
        "agent.optimizer.v = input_data[\"optimizer_v\"]\n",
        "agent.optimizer.beta_m_product = input_data[\"optimizer_beta_m_product\"]\n",
        "agent.optimizer.beta_v_product = input_data[\"optimizer_beta_v_product\"]\n",
        "agent.replay_buffer.rand_generator.seed(int(input_data[\"replay_buffer_seed\"]))\n",
        "for experience in input_data[\"replay_buffer\"]:\n",
        "    agent.replay_buffer.buffer.append(experience)\n",
        "\n",
        "# Perform agent_step multiple times\n",
        "last_state_array = input_data[\"last_state_array\"]\n",
        "last_action_array = input_data[\"last_action_array\"]\n",
        "state_array = input_data[\"state_array\"]\n",
        "reward_array = input_data[\"reward_array\"]\n",
        "\n",
        "for i in range(5):\n",
        "    agent.last_state = last_state_array[i]\n",
        "    agent.last_action = last_action_array[i]\n",
        "    state = state_array[i]\n",
        "    reward = reward_array[i]\n",
        "    \n",
        "    agent.agent_step(reward, state)\n",
        "    \n",
        "    # Load expected values for last_state, last_action, weights, and replay_buffer \n",
        "    output_data = np.load(\"asserts/agent_step_output_{}.npz\".format(i), allow_pickle=True)\n",
        "    answer_last_state = output_data[\"last_state\"]\n",
        "    answer_last_action = output_data[\"last_action\"]\n",
        "    answer_updated_weights = output_data[\"updated_weights\"]\n",
        "    answer_replay_buffer = output_data[\"replay_buffer\"]\n",
        "\n",
        "    # Asserts for last_state and last_action\n",
        "    assert(np.allclose(answer_last_state, agent.last_state))\n",
        "    assert(np.allclose(answer_last_action, agent.last_action))\n",
        "\n",
        "    # Asserts for replay_buffer \n",
        "    for i in range(answer_replay_buffer.shape[0]):\n",
        "        for j in range(answer_replay_buffer.shape[1]):\n",
        "            assert(np.allclose(np.asarray(agent.replay_buffer.buffer)[i, j], answer_replay_buffer[i, j]))\n",
        "\n",
        "    # Asserts for network.weights\n",
        "    assert(np.allclose(agent.network.weights[0][\"W\"], answer_updated_weights[0][\"W\"]))\n",
        "    assert(np.allclose(agent.network.weights[0][\"b\"], answer_updated_weights[0][\"b\"]))\n",
        "    assert(np.allclose(agent.network.weights[1][\"W\"], answer_updated_weights[1][\"W\"]))\n",
        "    assert(np.allclose(agent.network.weights[1][\"b\"], answer_updated_weights[1][\"b\"]))"
      ]
    },
    {
      "cell_type": "markdown",
      "metadata": {
        "id": "qeTGNpRWs37h"
      },
      "source": [
        "Testing the implementation of the `agent_end()` function:"
      ]
    },
    {
      "cell_type": "code",
      "execution_count": 18,
      "metadata": {
        "colab": {
          "base_uri": "https://localhost:8080/"
        },
        "id": "8878Orxms37h",
        "outputId": "8e7d3094-8cb2-4fd8-e338-929ba0ed9e29"
      },
      "outputs": [
        {
          "output_type": "stream",
          "name": "stderr",
          "text": [
            "/usr/local/lib/python3.7/dist-packages/ipykernel_launcher.py:58: VisibleDeprecationWarning: Creating an ndarray from ragged nested sequences (which is a list-or-tuple of lists-or-tuples-or ndarrays with different lengths or shapes) is deprecated. If you meant to do this, you must specify 'dtype=object' when creating the ndarray.\n"
          ]
        }
      ],
      "source": [
        "agent_info = {\n",
        "             'network_config': {\n",
        "                 'state_dim': 8,\n",
        "                 'num_hidden_units': 256,\n",
        "                 'num_hidden_layers': 1,\n",
        "                 'num_actions': 4\n",
        "             },\n",
        "             'optimizer_config': {\n",
        "                 'step_size': 3e-5, \n",
        "                 'beta_m': 0.9, \n",
        "                 'beta_v': 0.999,\n",
        "                 'epsilon': 1e-8\n",
        "             },\n",
        "             'replay_buffer_size': 32,\n",
        "             'minibatch_sz': 32,\n",
        "             'num_replay_updates_per_step': 4,\n",
        "             'gamma': 0.99,\n",
        "             'tau': 1000,\n",
        "             'seed': 0\n",
        "             }\n",
        "\n",
        "# Initialize agent\n",
        "agent = Agent()\n",
        "agent.agent_init(agent_info)\n",
        "\n",
        "# load agent network, optimizer, replay_buffer from the agent_input_1.npz file\n",
        "input_data = np.load(\"asserts/agent_input_1.npz\", allow_pickle=True)\n",
        "agent.network.set_weights(input_data[\"network_weights\"])\n",
        "agent.optimizer.m = input_data[\"optimizer_m\"]\n",
        "agent.optimizer.v = input_data[\"optimizer_v\"]\n",
        "agent.optimizer.beta_m_product = input_data[\"optimizer_beta_m_product\"]\n",
        "agent.optimizer.beta_v_product = input_data[\"optimizer_beta_v_product\"]\n",
        "agent.replay_buffer.rand_generator.seed(int(input_data[\"replay_buffer_seed\"]))\n",
        "for experience in input_data[\"replay_buffer\"]:\n",
        "    agent.replay_buffer.buffer.append(experience)\n",
        "\n",
        "# Perform agent_step multiple times\n",
        "last_state_array = input_data[\"last_state_array\"]\n",
        "last_action_array = input_data[\"last_action_array\"]\n",
        "state_array = input_data[\"state_array\"]\n",
        "reward_array = input_data[\"reward_array\"]\n",
        "\n",
        "for i in range(5):\n",
        "    agent.last_state = last_state_array[i]\n",
        "    agent.last_action = last_action_array[i]\n",
        "    reward = reward_array[i]\n",
        "    \n",
        "    agent.agent_end(reward)\n",
        "\n",
        "    # Load expected values for last_state, last_action, weights, and replay_buffer \n",
        "    output_data = np.load(\"asserts/agent_end_output_{}.npz\".format(i), allow_pickle=True)\n",
        "    answer_updated_weights = output_data[\"updated_weights\"]\n",
        "    answer_replay_buffer = output_data[\"replay_buffer\"]\n",
        "\n",
        "    # Asserts for replay_buffer \n",
        "    for i in range(answer_replay_buffer.shape[0]):\n",
        "        for j in range(answer_replay_buffer.shape[1]):\n",
        "            assert(np.allclose(np.asarray(agent.replay_buffer.buffer)[i, j], answer_replay_buffer[i, j]))\n",
        "\n",
        "    # Asserts for network.weights\n",
        "    assert(np.allclose(agent.network.weights[0][\"W\"], answer_updated_weights[0][\"W\"]))\n",
        "    assert(np.allclose(agent.network.weights[0][\"b\"], answer_updated_weights[0][\"b\"]))\n",
        "    assert(np.allclose(agent.network.weights[1][\"W\"], answer_updated_weights[1][\"W\"]))\n",
        "    assert(np.allclose(agent.network.weights[1][\"b\"], answer_updated_weights[1][\"b\"]))"
      ]
    },
    {
      "cell_type": "markdown",
      "metadata": {
        "id": "Iu-QjEv7s37i"
      },
      "source": [
        "## Run Experiment\n",
        "\n",
        "We plotted the learning curve of the agent to visualize learning progress. We used the sum of rewards in an episode as the performance measure."
      ]
    },
    {
      "cell_type": "code",
      "execution_count": 22,
      "metadata": {
        "colab": {
          "base_uri": "https://localhost:8080/"
        },
        "id": "Ag8ULwcBs37i",
        "outputId": "dcc28eda-69b1-46e0-d51d-b7c04f49f57b"
      },
      "outputs": [
        {
          "output_type": "stream",
          "name": "stderr",
          "text": [
            "/usr/local/lib/python3.7/dist-packages/gym/core.py:330: DeprecationWarning: \u001b[33mWARN: Initializing wrapper in old step API which returns one bool instead of two. It is recommended to set `new_step_api=True` to use new step API. This will be the default behaviour in future.\u001b[0m\n",
            "  \"Initializing wrapper in old step API which returns one bool instead of two. It is recommended to set `new_step_api=True` to use new step API. This will be the default behaviour in future.\"\n",
            "/usr/local/lib/python3.7/dist-packages/gym/wrappers/step_api_compatibility.py:40: DeprecationWarning: \u001b[33mWARN: Initializing environment in old step API which returns one bool instead of two. It is recommended to set `new_step_api=True` to use new step API. This will be the default behaviour in future.\u001b[0m\n",
            "  \"Initializing environment in old step API which returns one bool instead of two. It is recommended to set `new_step_api=True` to use new step API. This will be the default behaviour in future.\"\n",
            "/usr/local/lib/python3.7/dist-packages/gym/core.py:269: DeprecationWarning: \u001b[33mWARN: Function `env.seed(seed)` is marked as deprecated and will be removed in the future. Please use `env.reset(seed=seed)` instead.\u001b[0m\n",
            "  \"Function `env.seed(seed)` is marked as deprecated and will be removed in the future. \"\n",
            "100%|██████████| 300/300 [08:19<00:00,  1.66s/it]\n"
          ]
        }
      ],
      "source": [
        "def run_experiment(environment, agent, environment_parameters, agent_parameters, experiment_parameters):\n",
        "    \n",
        "    rl_glue = RLGlue(environment, agent)\n",
        "        \n",
        "    # save sum of reward at the end of each episode\n",
        "    agent_sum_reward = np.zeros((experiment_parameters[\"num_runs\"], \n",
        "                                 experiment_parameters[\"num_episodes\"]))\n",
        "\n",
        "    env_info = {}\n",
        "\n",
        "    agent_info = agent_parameters\n",
        "\n",
        "    # one agent setting\n",
        "    for run in range(1, experiment_parameters[\"num_runs\"]+1):\n",
        "        agent_info[\"seed\"] = run\n",
        "        agent_info[\"network_config\"][\"seed\"] = run\n",
        "        env_info[\"seed\"] = run\n",
        "\n",
        "        rl_glue.rl_init(agent_info, env_info)\n",
        "        \n",
        "        for episode in tqdm(range(1, experiment_parameters[\"num_episodes\"]+1)):\n",
        "            # run episode\n",
        "            rl_glue.rl_episode(experiment_parameters[\"timeout\"])\n",
        "            \n",
        "            episode_reward = rl_glue.rl_agent_message(\"get_sum_reward\")\n",
        "            agent_sum_reward[run - 1, episode - 1] = episode_reward\n",
        "    save_name = \"{}\".format(rl_glue.agent.name)\n",
        "    if not os.path.exists('results'):\n",
        "        os.makedirs('results')\n",
        "    np.save(\"results/sum_reward_{}\".format(save_name), agent_sum_reward)\n",
        "    shutil.make_archive('results', 'zip', 'results')\n",
        "\n",
        "# Run Experiment\n",
        "\n",
        "# Experiment parameters\n",
        "experiment_parameters = {\n",
        "    \"num_runs\" : 1,\n",
        "    \"num_episodes\" : 300,\n",
        "    # OpenAI Gym environments allow for a timestep limit timeout, causing episodes to end after \n",
        "    # some number of timesteps. Here we use the default of 500.\n",
        "    \"timeout\" : 500\n",
        "}\n",
        "\n",
        "# Environment parameters\n",
        "environment_parameters = {}\n",
        "\n",
        "current_env = MoonLanderEnvironment\n",
        "\n",
        "# Agent parameters\n",
        "agent_parameters = {\n",
        "    'network_config': {\n",
        "        'state_dim': 8,\n",
        "        'num_hidden_units': 256,\n",
        "        'num_actions': 4\n",
        "    },\n",
        "    'optimizer_config': {\n",
        "        'step_size': 1e-3,\n",
        "        'beta_m': 0.9, \n",
        "        'beta_v': 0.999,\n",
        "        'epsilon': 1e-8\n",
        "    },\n",
        "    'replay_buffer_size': 50000,\n",
        "    'minibatch_sz': 8,\n",
        "    'num_replay_updates_per_step': 4,\n",
        "    'gamma': 0.99,\n",
        "    'tau': 0.001\n",
        "}\n",
        "current_agent = Agent\n",
        "\n",
        "# run experiment\n",
        "run_experiment(current_env, current_agent, environment_parameters, agent_parameters, experiment_parameters)"
      ]
    },
    {
      "cell_type": "markdown",
      "source": [
        "Comparison between our implemented agent and a random agent for one run and 300 episodes"
      ],
      "metadata": {
        "id": "wD91SaYkvG2z"
      }
    },
    {
      "cell_type": "code",
      "source": [
        "plot_result([\"expected_sarsa_agent\", \"random_agent\"])"
      ],
      "metadata": {
        "colab": {
          "base_uri": "https://localhost:8080/",
          "height": 441
        },
        "id": "G_DAGc4muNDy",
        "outputId": "893b2d9e-bc05-473e-b9ee-52d80acdb71e"
      },
      "execution_count": 23,
      "outputs": [
        {
          "output_type": "display_data",
          "data": {
            "text/plain": [
              "<Figure size 576x432 with 1 Axes>"
            ],
            "image/png": "[encoded data removed]"
          },
          "metadata": {
            "needs_background": "light"
          }
        }
      ]
    },
    {
      "cell_type": "markdown",
      "source": [
        "## Parameter Study"
      ],
      "metadata": {
        "id": "NcUQQxRIwufx"
      }
    },
    {
      "cell_type": "code",
      "source": [
        "def run_experiment(environment, agent, environment_parameters, agent_parameters, experiment_parameters):\n",
        "    \n",
        "    \"\"\"\n",
        "    Assume environment_parameters dict contains:\n",
        "    {\n",
        "        input_dim: integer,\n",
        "        num_actions: integer,\n",
        "        discount_factor: float\n",
        "    }\n",
        "    \n",
        "    Assume agent_parameters dict contains:\n",
        "    {\n",
        "        step_size: 1D numpy array of floats,\n",
        "        tau: 1D numpy array of floats\n",
        "    }\n",
        "    \n",
        "    Assume experiment_parameters dict contains:\n",
        "    {\n",
        "        num_runs: integer,\n",
        "        num_episodes: integer\n",
        "    }    \n",
        "    \"\"\"\n",
        "    \n",
        "    ### Instantiate rl_glue from RLGlue    \n",
        "    rl_glue = RLGlue(environment, agent)\n",
        "\n",
        "    os.system('sleep 1') # to prevent tqdm printing out-of-order\n",
        "    \n",
        "    \n",
        "    ### Initialize agent_sum_reward to zero in the form of a numpy array \n",
        "    # with shape (number of values for tau, number of step-sizes, number of runs, number of episodes)\n",
        "    agent_sum_reward = None\n",
        "\n",
        "    agent_sum_reward = np.zeros((len(agent_parameters['tau']), \n",
        "                                 len(agent_parameters['step_size']), \n",
        "                                 experiment_parameters['num_runs'], \n",
        "                                 experiment_parameters['num_episodes']))\n",
        "    \n",
        "    \n",
        "    \n",
        "    # for loop over different values of tau\n",
        "    # tqdm is used to show a progress bar for completing the parameter study\n",
        "    for i in tqdm(range(len(agent_parameters['tau']))):\n",
        "        \n",
        "        # for loop over different values of the step-size\n",
        "        for j in range(len(agent_parameters['step_size'])):\n",
        "\n",
        "            ### Specify env_info \n",
        "            env_info = environment_parameters\n",
        "\n",
        "            ### Specify agent_info\n",
        "            agent_info = {\"num_actions\": environment_parameters[\"num_actions\"],\n",
        "                          \"input_dim\": environment_parameters[\"input_dim\"],\n",
        "                          \"discount_factor\": environment_parameters[\"discount_factor\"],\n",
        "                          \"tau\": agent_parameters['tau'][i],\n",
        "                          \"step_size\": agent_parameters['step_size'][j],\n",
        "                         }\n",
        "            \n",
        "            for run in range(experiment_parameters['num_runs']):\n",
        "                \n",
        "                # Set the seed\n",
        "                agent_info[\"seed\"] = agent_parameters[\"seed\"] * experiment_parameters[\"num_runs\"] + run\n",
        "                \n",
        "                # Beginning of the run            \n",
        "                rl_glue.rl_init(agent_info, env_info)\n",
        "\n",
        "                for episode in range(experiment_parameters['num_episodes']):\n",
        "                    \n",
        "                    # Run episode\n",
        "                    rl_glue.rl_episode(0) # no step limit\n",
        "\n",
        "                    ### Store sum of reward\n",
        "                    # agent_sum_reward[None, None, None, None] = rl_glue.rl_agent_message(\"get_sum_reward\")\n",
        "                    agent_sum_reward[i, j, run, episode] = rl_glue.rl_agent_message(\"get_sum_reward\")\n",
        "\n",
        "            if not os.path.exists('results'):\n",
        "                    os.makedirs('results')\n",
        "\n",
        "            save_name = \"{}\".format(rl_glue.agent.name).replace('.','')\n",
        "\n",
        "            # save sum reward\n",
        "            np.save(\"results/sum_reward_{}\".format(save_name), agent_sum_reward) "
      ],
      "metadata": {
        "id": "iGnfFcI9wLvv"
      },
      "execution_count": 24,
      "outputs": []
    },
    {
      "cell_type": "markdown",
      "source": [
        "Testing the implementation of `run_experiment()` given a dummy agent and a dummy environment for 100 runs, 100 episodes, 12 values of the step-size, and 4 values of $\\tau$:"
      ],
      "metadata": {
        "id": "12t3gkbmxBh0"
      }
    },
    {
      "cell_type": "code",
      "source": [
        "# Experiment parameters\n",
        "experiment_parameters = {\n",
        "    \"num_runs\" : 100,\n",
        "    \"num_episodes\" : 100,\n",
        "}\n",
        "\n",
        "# Environment parameters\n",
        "environment_parameters = {\n",
        "    \"input_dim\" : 8,\n",
        "    \"num_actions\": 4, \n",
        "    \"discount_factor\" : 0.99\n",
        "}\n",
        "\n",
        "agent_parameters = {\n",
        "    \"step_size\": 3e-5 * np.power(2.0, np.array([-6, -5, -4, -3, -2, -1, 0, 1, 2, 3, 4, 5])),\n",
        "    \"tau\": np.array([0.001, 0.01, 0.1, 1.0]),\n",
        "    \"seed\": 0\n",
        "}\n",
        "\n",
        "test_env = DummyEnvironment\n",
        "test_agent = DummyAgent\n",
        "\n",
        "run_experiment(test_env, \n",
        "               test_agent, \n",
        "               environment_parameters, \n",
        "               agent_parameters, \n",
        "               experiment_parameters)\n",
        "\n",
        "sum_reward_dummy_agent = np.load(\"results/sum_reward_dummy_agent.npy\")\n",
        "sum_reward_dummy_agent_answer = np.load(\"asserts/sum_reward_dummy_agent.npy\")\n",
        "assert(np.allclose(sum_reward_dummy_agent, sum_reward_dummy_agent_answer))\n",
        "\n",
        "print(\"\\nPassed the assert!\")"
      ],
      "metadata": {
        "colab": {
          "base_uri": "https://localhost:8080/"
        },
        "id": "0RG9i_u9w9mZ",
        "outputId": "641183e2-c3ff-4878-dcdb-b792426d5be1"
      },
      "execution_count": 36,
      "outputs": [
        {
          "output_type": "stream",
          "name": "stderr",
          "text": [
            "100%|██████████| 4/4 [00:08<00:00,  2.17s/it]"
          ]
        },
        {
          "output_type": "stream",
          "name": "stdout",
          "text": [
            "\n",
            "Passed the assert!\n"
          ]
        },
        {
          "output_type": "stream",
          "name": "stderr",
          "text": [
            "\n"
          ]
        }
      ]
    },
    {
      "cell_type": "code",
      "source": [
        "experiment_parameters = {\n",
        "    \"num_runs\" : 100,\n",
        "    \"num_episodes\" : 100,\n",
        "}\n",
        "\n",
        "# Environment parameters\n",
        "environment_parameters = {\n",
        "    \"input_dim\" : 8,\n",
        "    \"num_actions\": 4, \n",
        "    \"discount_factor\" : 0.99\n",
        "}\n",
        "\n",
        "agent_parameters = {\n",
        "    \"step_size\": 3e-5 * np.power(2.0, np.array([-6, -5, -4, -3, -2, -1, 0, 1, 2, 3, 4, 5])),\n",
        "    \"tau\": np.array([0.001, 0.01, 0.1, 1.0]),\n",
        "    \"seed\": 0\n",
        "}\n",
        "\n",
        "test_env = DummyEnvironment\n",
        "test_agent = DummyAgent\n",
        "\n",
        "run_experiment(test_env, \n",
        "               test_agent,  \n",
        "               environment_parameters, \n",
        "               agent_parameters, \n",
        "               experiment_parameters)\n",
        "\n",
        "sum_reward_dummy_agent = np.load(\"results/sum_reward_dummy_agent.npy\")\n",
        "sum_reward_dummy_agent_answer = np.load(\"asserts/sum_reward_dummy_agent.npy\")\n",
        "assert(np.allclose(sum_reward_dummy_agent, sum_reward_dummy_agent_answer))"
      ],
      "metadata": {
        "colab": {
          "base_uri": "https://localhost:8080/"
        },
        "id": "2UgEWtacycsR",
        "outputId": "0b2dd5ea-1030-4bb9-bf47-6f5b19b370e9"
      },
      "execution_count": 37,
      "outputs": [
        {
          "output_type": "stream",
          "name": "stderr",
          "text": [
            "100%|██████████| 4/4 [00:09<00:00,  2.39s/it]\n"
          ]
        }
      ]
    }
  ],
  "metadata": {
    "kernelspec": {
      "display_name": "Python 3.8.5 ('base')",
      "language": "python",
      "name": "python3"
    },
    "language_info": {
      "codemirror_mode": {
        "name": "ipython",
        "version": 3
      },
      "file_extension": ".py",
      "mimetype": "text/x-python",
      "name": "python",
      "nbconvert_exporter": "python",
      "pygments_lexer": "ipython3",
      "version": "3.8.5"
    },
    "orig_nbformat": 4,
    "vscode": {
      "interpreter": {
        "hash": "bd3f1da8f6b2e069fa79ea943cb28ac35c78b055477c15e9cfb0a47fe444e79b"
      }
    },
    "colab": {
      "name": "MoonLander.ipynb",
      "provenance": [],
      "include_colab_link": true
    }
  },
  "nbformat": 4,
  "nbformat_minor": 0
}